{
 "cells": [
  {
   "cell_type": "markdown",
   "id": "b430bee4",
   "metadata": {},
   "source": [
    "### Business Case"
   ]
  },
  {
   "cell_type": "markdown",
   "id": "10545eb6",
   "metadata": {},
   "source": [
    "Data anonymization is important when publicizing work. In order to publish my main script (Scoreholio Stat Collection) I wanted to replace my player's names with anonymous names. This will allow me to provide test data for others to run their script on, without risking the privacy of my players. I am not providing the original CSV files for obvious privacy reason."
   ]
  },
  {
   "cell_type": "code",
   "execution_count": 1,
   "id": "57cc1205",
   "metadata": {},
   "outputs": [],
   "source": [
    "import pandas as pd\n",
    "import numpy as np\n",
    "import names\n",
    "from faker import Faker\n",
    "import os\n",
    "import glob\n",
    "import re\n",
    "from ipynb.fs.full.methods import get_combined_list"
   ]
  },
  {
   "cell_type": "markdown",
   "id": "812f1683",
   "metadata": {},
   "source": [
    "#### Sets input path with directory of Scoreholio bracket standing outputs directly from the Scoreholio website."
   ]
  },
  {
   "cell_type": "code",
   "execution_count": 2,
   "id": "4e0f7bb3",
   "metadata": {},
   "outputs": [],
   "source": [
    "input_path = r'C:\\Users\\chein\\School\\Practice\\Cornhole Stat Collection\\ChiTown Baggers Bracket Standing Outputs' # use your path"
   ]
  },
  {
   "cell_type": "code",
   "execution_count": 3,
   "id": "17a1f4f7",
   "metadata": {},
   "outputs": [],
   "source": [
    "output_path = r'C:\\Users\\chein\\School\\Practice\\Cornhole Stat Collection\\Chitown Anonymous Data'"
   ]
  },
  {
   "cell_type": "markdown",
   "id": "cda101bc",
   "metadata": {},
   "source": [
    "#### This method combines all CSVs in the folder into one dataframe, grouped by player's name."
   ]
  },
  {
   "cell_type": "code",
   "execution_count": 4,
   "id": "be278f64",
   "metadata": {},
   "outputs": [],
   "source": [
    "realnames = get_combined_list(input_path)"
   ]
  },
  {
   "cell_type": "markdown",
   "id": "96911ee2",
   "metadata": {},
   "source": [
    "#### Rename column for easier referencing."
   ]
  },
  {
   "cell_type": "code",
   "execution_count": 5,
   "id": "983d7c8a",
   "metadata": {},
   "outputs": [],
   "source": [
    "realnames=realnames.rename(columns={\"Player Name\": \"playername\"})"
   ]
  },
  {
   "cell_type": "markdown",
   "id": "e2ec1448",
   "metadata": {},
   "source": [
    "#### Looking to see number of unique playernames."
   ]
  },
  {
   "cell_type": "code",
   "execution_count": 6,
   "id": "cc8833e9",
   "metadata": {},
   "outputs": [
    {
     "data": {
      "text/plain": [
       "93"
      ]
     },
     "execution_count": 6,
     "metadata": {},
     "output_type": "execute_result"
    }
   ],
   "source": [
    "len(realnames[\"playername\"].unique())"
   ]
  },
  {
   "cell_type": "markdown",
   "id": "6db5ab48",
   "metadata": {},
   "source": [
    "#### Sets all_names to the list of unique player names in the realnames dataframe."
   ]
  },
  {
   "cell_type": "code",
   "execution_count": 7,
   "id": "2570c72f",
   "metadata": {},
   "outputs": [],
   "source": [
    "all_names = set(realnames[\"playername\"])"
   ]
  },
  {
   "cell_type": "markdown",
   "id": "8e263780",
   "metadata": {},
   "source": [
    "This creates a dictionary consistening of player names and a fake name to each. I used last_name for no particular reason. Using fake.unique ensures that every player gets a unique name and no two real player names are errantly combined into one fake name."
   ]
  },
  {
   "cell_type": "code",
   "execution_count": 8,
   "id": "36201c16",
   "metadata": {},
   "outputs": [],
   "source": [
    "#### Create Faker object which is used to generate fake names.\n",
    "fake = Faker()\n",
    "# mapper = {k: fake.last_name() for k in all_names }\n",
    "mapper = {k: fake.unique.last_name() for i, k in enumerate(all_names)}"
   ]
  },
  {
   "cell_type": "markdown",
   "id": "c8571e14",
   "metadata": {},
   "source": [
    "#### This goes through each file from the input path directory, anonymizes it, and then saves it to the output directory."
   ]
  },
  {
   "cell_type": "code",
   "execution_count": 9,
   "id": "fca3a392",
   "metadata": {},
   "outputs": [],
   "source": [
    "all_files = glob.glob(input_path + \"/*.csv\")\n",
    "li = []\n",
    "for filename in all_files:\n",
    "    df = pd.read_csv(filename, index_col=None, header=0)\n",
    "    df = df.replace({\"Player1Name\": mapper})\n",
    "    df = df.replace({\"Player2Name\": mapper})\n",
    "    # Empties team name as it also contains player data.\n",
    "    df[\"TeamName\"]=\" \"\n",
    "    newfilename = \"\\\\\"+re.sub('.csv', '', filename).split(\"\\\\\")[-1] + \"-anon.csv\"\n",
    "    df.to_csv(output_path + newfilename, index = False, header=True)"
   ]
  },
  {
   "cell_type": "markdown",
   "id": "bc0cc214",
   "metadata": {},
   "source": [
    "Example output after the anonymization. Excluding null value columns here as the main script will handle the actual data cleaning."
   ]
  },
  {
   "cell_type": "code",
   "execution_count": 10,
   "id": "0aaa5a59",
   "metadata": {},
   "outputs": [
    {
     "data": {
      "text/html": [
       "<div>\n",
       "<style scoped>\n",
       "    .dataframe tbody tr th:only-of-type {\n",
       "        vertical-align: middle;\n",
       "    }\n",
       "\n",
       "    .dataframe tbody tr th {\n",
       "        vertical-align: top;\n",
       "    }\n",
       "\n",
       "    .dataframe thead th {\n",
       "        text-align: right;\n",
       "    }\n",
       "</style>\n",
       "<table border=\"1\" class=\"dataframe\">\n",
       "  <thead>\n",
       "    <tr style=\"text-align: right;\">\n",
       "      <th></th>\n",
       "      <th>GameID</th>\n",
       "      <th>GameName</th>\n",
       "      <th>TeamID</th>\n",
       "      <th>TeamName</th>\n",
       "      <th>Player1Name</th>\n",
       "      <th>Player2Name</th>\n",
       "      <th>Seed</th>\n",
       "      <th>Place</th>\n",
       "      <th>Wins</th>\n",
       "      <th>Losses</th>\n",
       "    </tr>\n",
       "  </thead>\n",
       "  <tbody>\n",
       "    <tr>\n",
       "      <th>0</th>\n",
       "      <td>pKiHADI5c9EsrG7pH1gq</td>\n",
       "      <td>Rizzo's Social Blind Draw</td>\n",
       "      <td>fCyWKFwZouRcBkkLMBpa</td>\n",
       "      <td></td>\n",
       "      <td>Kirk</td>\n",
       "      <td>Carter</td>\n",
       "      <td>5</td>\n",
       "      <td>1</td>\n",
       "      <td>6</td>\n",
       "      <td>0</td>\n",
       "    </tr>\n",
       "    <tr>\n",
       "      <th>1</th>\n",
       "      <td>pKiHADI5c9EsrG7pH1gq</td>\n",
       "      <td>Rizzo's Social Blind Draw</td>\n",
       "      <td>GJAovQFbTBshk30cCyVI</td>\n",
       "      <td></td>\n",
       "      <td>Singh</td>\n",
       "      <td>Nunez</td>\n",
       "      <td>8</td>\n",
       "      <td>2</td>\n",
       "      <td>5</td>\n",
       "      <td>2</td>\n",
       "    </tr>\n",
       "    <tr>\n",
       "      <th>2</th>\n",
       "      <td>pKiHADI5c9EsrG7pH1gq</td>\n",
       "      <td>Rizzo's Social Blind Draw</td>\n",
       "      <td>VKhFgkFZGc8nMQbnLWYC</td>\n",
       "      <td></td>\n",
       "      <td>Hensley</td>\n",
       "      <td>Kennedy</td>\n",
       "      <td>10</td>\n",
       "      <td>3</td>\n",
       "      <td>3</td>\n",
       "      <td>2</td>\n",
       "    </tr>\n",
       "    <tr>\n",
       "      <th>3</th>\n",
       "      <td>pKiHADI5c9EsrG7pH1gq</td>\n",
       "      <td>Rizzo's Social Blind Draw</td>\n",
       "      <td>zSSSt1TXTTsQnkpbstc1</td>\n",
       "      <td></td>\n",
       "      <td>Montoya</td>\n",
       "      <td>Robertson</td>\n",
       "      <td>6</td>\n",
       "      <td>4</td>\n",
       "      <td>3</td>\n",
       "      <td>2</td>\n",
       "    </tr>\n",
       "    <tr>\n",
       "      <th>4</th>\n",
       "      <td>pKiHADI5c9EsrG7pH1gq</td>\n",
       "      <td>Rizzo's Social Blind Draw</td>\n",
       "      <td>c0fkg3xTT0RW9el9QChX</td>\n",
       "      <td></td>\n",
       "      <td>Mendez</td>\n",
       "      <td>Martinez</td>\n",
       "      <td>4</td>\n",
       "      <td>5</td>\n",
       "      <td>2</td>\n",
       "      <td>2</td>\n",
       "    </tr>\n",
       "  </tbody>\n",
       "</table>\n",
       "</div>"
      ],
      "text/plain": [
       "                 GameID                   GameName                TeamID  \\\n",
       "0  pKiHADI5c9EsrG7pH1gq  Rizzo's Social Blind Draw  fCyWKFwZouRcBkkLMBpa   \n",
       "1  pKiHADI5c9EsrG7pH1gq  Rizzo's Social Blind Draw  GJAovQFbTBshk30cCyVI   \n",
       "2  pKiHADI5c9EsrG7pH1gq  Rizzo's Social Blind Draw  VKhFgkFZGc8nMQbnLWYC   \n",
       "3  pKiHADI5c9EsrG7pH1gq  Rizzo's Social Blind Draw  zSSSt1TXTTsQnkpbstc1   \n",
       "4  pKiHADI5c9EsrG7pH1gq  Rizzo's Social Blind Draw  c0fkg3xTT0RW9el9QChX   \n",
       "\n",
       "  TeamName Player1Name Player2Name  Seed  Place  Wins  Losses  \n",
       "0                 Kirk      Carter     5      1     6       0  \n",
       "1                Singh       Nunez     8      2     5       2  \n",
       "2              Hensley     Kennedy    10      3     3       2  \n",
       "3              Montoya   Robertson     6      4     3       2  \n",
       "4               Mendez    Martinez     4      5     2       2  "
      ]
     },
     "execution_count": 10,
     "metadata": {},
     "output_type": "execute_result"
    }
   ],
   "source": [
    "df = df[df.columns[~df.isnull().all()]]\n",
    "df.head()"
   ]
  }
 ],
 "metadata": {
  "kernelspec": {
   "display_name": "Python 3",
   "language": "python",
   "name": "python3"
  },
  "language_info": {
   "codemirror_mode": {
    "name": "ipython",
    "version": 3
   },
   "file_extension": ".py",
   "mimetype": "text/x-python",
   "name": "python",
   "nbconvert_exporter": "python",
   "pygments_lexer": "ipython3",
   "version": "3.8.8"
  }
 },
 "nbformat": 4,
 "nbformat_minor": 5
}
