{
 "cells": [
  {
   "cell_type": "code",
   "execution_count": 1,
   "id": "c4035768",
   "metadata": {},
   "outputs": [],
   "source": [
    "import pandas as pd\n",
    "import numpy as np\n",
    "import os\n",
    "import glob\n",
    "import re as re\n",
    "import unidecode\n",
    "pd.options.mode.chained_assignment = None  # default='warn'"
   ]
  },
  {
   "cell_type": "markdown",
   "id": "3b0aa50c",
   "metadata": {},
   "source": [
    "Master method that runs all necessary methods in order."
   ]
  },
  {
   "cell_type": "code",
   "execution_count": 2,
   "id": "cabaa8d9",
   "metadata": {},
   "outputs": [],
   "source": [
    "def run_the_script(path):\n",
    "    masterlist = get_combined_list(path)\n",
    "    contactlist = contact_list(masterlist)\n",
    "    masterlist = sum_cols(masterlist)\n",
    "    masterlist = stats(masterlist)\n",
    "    masterlist = rename_cols(masterlist)\n",
    "    masterlist = get_event_results(masterlist, path)\n",
    "    return masterlist, contactlist"
   ]
  },
  {
   "cell_type": "markdown",
   "id": "f7a1ede7",
   "metadata": {},
   "source": [
    "Returns only players who have an email address on file."
   ]
  },
  {
   "cell_type": "code",
   "execution_count": 3,
   "id": "4970faa4",
   "metadata": {},
   "outputs": [],
   "source": [
    "def contact_list(df):\n",
    "    return df[df['PlayerEmail'].notnull()]\n",
    "    "
   ]
  },
  {
   "cell_type": "markdown",
   "id": "3d9944e6",
   "metadata": {},
   "source": [
    "Goes through a directory, cleans each dataframe and appends it. Returns a dataframe of all cleaned files together."
   ]
  },
  {
   "cell_type": "code",
   "execution_count": 4,
   "id": "2b6dac9d",
   "metadata": {},
   "outputs": [],
   "source": [
    "def get_combined_list(path):\n",
    "    all_files = glob.glob(path + \"/*.csv\")\n",
    "    li = []\n",
    "    for filename in all_files:\n",
    "        df = pd.read_csv(filename, index_col=None, header=0)\n",
    "        df = clean_df(df)\n",
    "        li.append(df)\n",
    "    masterlist = pd.concat(li, axis=0, ignore_index=True)\n",
    "    return masterlist"
   ]
  },
  {
   "cell_type": "markdown",
   "id": "be568183",
   "metadata": {},
   "source": [
    "Cleans up dataframe"
   ]
  },
  {
   "cell_type": "code",
   "execution_count": 5,
   "id": "cb792d37",
   "metadata": {},
   "outputs": [],
   "source": [
    "def clean_df(bigdf):\n",
    "    df = bigdf.copy()\n",
    "    df = drop_columns(df)\n",
    "    df = remove_all_extra_spaces(df)\n",
    "    df = remove_chars(df)\n",
    "    df = all_players(df)\n",
    "    df = add_attendance(df)\n",
    "    return df"
   ]
  },
  {
   "cell_type": "markdown",
   "id": "1ad4de94",
   "metadata": {},
   "source": [
    "All Scoreholio bracket standing outputs contain the same columns. This drops GameID, GameName, TeamID, TeamName, Player1User, Player2User, all Player3 and Player4 columns, and Seed."
   ]
  },
  {
   "cell_type": "code",
   "execution_count": 6,
   "id": "ea11869a",
   "metadata": {},
   "outputs": [],
   "source": [
    "def drop_columns(df):\n",
    "    return df.iloc[:, np.r_[5:9,10:14,22:25]]"
   ]
  },
  {
   "cell_type": "markdown",
   "id": "cde85b8f",
   "metadata": {},
   "source": [
    "Remove all extra spaces. Helps to prevent duplicate player names from remaining in the dataframe due to an errant space inputted in the front of back of a name."
   ]
  },
  {
   "cell_type": "code",
   "execution_count": 7,
   "id": "85d9762d",
   "metadata": {},
   "outputs": [],
   "source": [
    "def remove_all_extra_spaces(df):\n",
    "    return df.applymap(lambda x: x.strip() if isinstance(x, str) else x)"
   ]
  },
  {
   "cell_type": "markdown",
   "id": "31adfd5f",
   "metadata": {},
   "source": [
    "Some organizers put funny names for players where they replace letters with characters. We remove the characters for a more consistent naming convention."
   ]
  },
  {
   "cell_type": "code",
   "execution_count": 8,
   "id": "a6c18fd3",
   "metadata": {},
   "outputs": [],
   "source": [
    "def remove_chars(df):\n",
    "    #unidecode handles characters that are not part of the 26 letter alphabet such as accents.\n",
    "    return df.applymap(lambda x: unidecode.unidecode(x) if isinstance(x, str) else x)"
   ]
  },
  {
   "cell_type": "markdown",
   "id": "8093b592",
   "metadata": {},
   "source": [
    "Drops columns with no information in them."
   ]
  },
  {
   "cell_type": "code",
   "execution_count": 9,
   "id": "b7bb7592",
   "metadata": {},
   "outputs": [],
   "source": [
    "def drop_nan_columns(df):\n",
    "    return df[df.columns[~df.isnull().all()]]"
   ]
  },
  {
   "cell_type": "markdown",
   "id": "e5cc603e",
   "metadata": {},
   "source": [
    "Gets list of all player names."
   ]
  },
  {
   "cell_type": "code",
   "execution_count": 10,
   "id": "bd888570",
   "metadata": {},
   "outputs": [],
   "source": [
    "def all_players(df):\n",
    "    player1 = df.iloc[:, np.r_[0:4,8:11]]\n",
    "    player2 = df.iloc[:, np.r_[4:11]]\n",
    "\n",
    "    player1, player2 = make_players(player1,player2)\n",
    "    \n",
    "    finaldf = pd.concat([player1,player2], ignore_index=True)\n",
    "    \n",
    "    cols = list(finaldf.columns)\n",
    "    cols = [cols[-1]] + cols[:-1]\n",
    "    finaldf = finaldf[cols]\n",
    "    \n",
    "    return finaldf"
   ]
  },
  {
   "cell_type": "code",
   "execution_count": 11,
   "id": "0b42af98",
   "metadata": {},
   "outputs": [],
   "source": [
    "def make_players(player1,player2):\n",
    "    \n",
    "    player1 = make_name(player1)\n",
    "    player2 = make_name(player2)\n",
    "\n",
    "    player1 = fill_name(player1)\n",
    "    player2 = fill_name(player2)\n",
    "    \n",
    "    player1=remove_non_alph_num(player1)\n",
    "    player2=remove_non_alph_num(player2)\n",
    "\n",
    "    player1=drop_cols(player1)\n",
    "    player2=drop_cols(player2)\n",
    "    \n",
    "    player1=rename_player_cols(player1)\n",
    "    player2=rename_player_cols(player2)\n",
    "    \n",
    "    return player1, player2"
   ]
  },
  {
   "cell_type": "markdown",
   "id": "9d2d8e3e",
   "metadata": {},
   "source": [
    "Combines first and last name of player."
   ]
  },
  {
   "cell_type": "code",
   "execution_count": 12,
   "id": "1970f1de",
   "metadata": {},
   "outputs": [],
   "source": [
    "def make_name(df):\n",
    "    df[\"Player Name\"] = df.iloc[:,1]+\" \" + df.iloc[:,2]\n",
    "    return df"
   ]
  },
  {
   "cell_type": "code",
   "execution_count": 13,
   "id": "84084bf3",
   "metadata": {},
   "outputs": [],
   "source": [
    "def fill_name(df):\n",
    "    df[\"Player Name\"] = df.iloc[:,0].fillna(df.iloc[:,0])\n",
    "    return df"
   ]
  },
  {
   "cell_type": "code",
   "execution_count": 14,
   "id": "037427c2",
   "metadata": {},
   "outputs": [],
   "source": [
    "def remove_non_alph_num(df):\n",
    "    df['Player Name']=df.iloc[:,0].str.replace('[^\\w\\s]','', regex=True)\n",
    "    return df"
   ]
  },
  {
   "cell_type": "code",
   "execution_count": 15,
   "id": "d748b714",
   "metadata": {},
   "outputs": [],
   "source": [
    "def drop_cols(df):\n",
    "    return df.drop(df.columns[0:3], axis=1)"
   ]
  },
  {
   "cell_type": "markdown",
   "id": "6e7ddf3c",
   "metadata": {},
   "source": [
    "Adds attendance value for a player for the event attended."
   ]
  },
  {
   "cell_type": "code",
   "execution_count": 16,
   "id": "361ab03e",
   "metadata": {},
   "outputs": [],
   "source": [
    "def add_attendance(df):\n",
    "    df['Attendance'] = 1\n",
    "    return df"
   ]
  },
  {
   "cell_type": "markdown",
   "id": "8b6bc310",
   "metadata": {},
   "source": [
    "Renames column to PlayerEmail"
   ]
  },
  {
   "cell_type": "code",
   "execution_count": 17,
   "id": "bd06352c",
   "metadata": {},
   "outputs": [],
   "source": [
    "def rename_player_cols(df):\n",
    "    df = df.rename(columns={df.columns[0]: 'PlayerEmail'})\n",
    "    return df"
   ]
  },
  {
   "cell_type": "markdown",
   "id": "fa9bd718",
   "metadata": {},
   "source": [
    "This groups by \"Player Name\" column and sums wins, losses, attendance, max wins in one even (Wins2) and gets the player's best placement out of all events (Place)."
   ]
  },
  {
   "cell_type": "code",
   "execution_count": 18,
   "id": "a68a5221",
   "metadata": {},
   "outputs": [],
   "source": [
    "def sum_cols(df):\n",
    "    df = df.groupby([\"Player Name\"], dropna=False).agg(\n",
    "     Wins = (\"Wins\",'sum'),\n",
    "     Losses = (\"Losses\",'sum'),\n",
    "     Attendance = (\"Attendance\",'sum'),\n",
    "     Wins2 = (\"Wins\",'max'),\n",
    "     Place = (\"Place\",'min'),\n",
    "     ).reset_index().sort_values(by=[\"Player Name\"])\n",
    "    return df"
   ]
  },
  {
   "cell_type": "markdown",
   "id": "c28bcd8d",
   "metadata": {},
   "source": [
    "Calculcates player's win/loss rate."
   ]
  },
  {
   "cell_type": "code",
   "execution_count": 19,
   "id": "05aa4c43",
   "metadata": {},
   "outputs": [],
   "source": [
    "def stats(df):\n",
    "    df[\"Win Rate\"] = (df[\"Wins\"]/(df[\"Wins\"]+df[\"Losses\"]))\n",
    "    return df"
   ]
  },
  {
   "cell_type": "markdown",
   "id": "9d177693",
   "metadata": {},
   "source": [
    "Rename more columns"
   ]
  },
  {
   "cell_type": "code",
   "execution_count": 20,
   "id": "80f5d4c6",
   "metadata": {},
   "outputs": [],
   "source": [
    "def rename_cols(df):\n",
    "    df=df.rename(columns={\"Wins2\": \"Most Wins in One Event\", \"Place\": \"Best Placement\"})\n",
    "    return df"
   ]
  },
  {
   "cell_type": "markdown",
   "id": "ff7202e7",
   "metadata": {},
   "source": [
    "This goes through the path given which contains all Scoreholio event outputs and merges them into one large dataframe."
   ]
  },
  {
   "cell_type": "code",
   "execution_count": 21,
   "id": "c30d60b4",
   "metadata": {},
   "outputs": [],
   "source": [
    "def get_event_results(masterlist, path):\n",
    "    all_files = glob.glob(path + \"/*.csv\")\n",
    "    li = []\n",
    "    event = 1\n",
    "    for filename in all_files:\n",
    "        df = pd.read_csv(filename, index_col=None, header=0)\n",
    "        df = clean_df(df)\n",
    "        df = df.iloc[:, 0:4]\n",
    "        df = rename_event_cols(df, event, str(filename))\n",
    "        if(event == 1):\n",
    "            finallist = pd.merge(masterlist,df,on=\"Player Name\", how='left')\n",
    "        else:\n",
    "            finallist = pd.merge(finallist,df,on=\"Player Name\", how='left')\n",
    "        event= event+1\n",
    "    return finallist"
   ]
  },
  {
   "cell_type": "markdown",
   "id": "98f15fdb",
   "metadata": {},
   "source": [
    "Renames event columns to better show which event each column is referring to."
   ]
  },
  {
   "cell_type": "code",
   "execution_count": 22,
   "id": "5517644d",
   "metadata": {},
   "outputs": [],
   "source": [
    "def rename_event_cols(df, event, filename):\n",
    "    eventname = renameevent(filename, event)\n",
    "    df=df.rename(columns={\"Place\": eventname + \" Placement\", \"Wins\": eventname + \" Wins\", \"Losses\": eventname + \" Losses\"})\n",
    "    return df"
   ]
  },
  {
   "cell_type": "markdown",
   "id": "92238661",
   "metadata": {},
   "source": [
    "Gets file name for each event."
   ]
  },
  {
   "cell_type": "code",
   "execution_count": 23,
   "id": "b001aa76",
   "metadata": {},
   "outputs": [],
   "source": [
    "def renameevent(filename, event):\n",
    "    filename = str(filename)\n",
    "    word_list = filename.split(\"\\\\\")  # list of words\n",
    "    filename = word_list[-1]\n",
    "    filename = filename.replace(\".csv\",'')\n",
    "    return filename"
   ]
  }
 ],
 "metadata": {
  "kernelspec": {
   "display_name": "Python 3",
   "language": "python",
   "name": "python3"
  },
  "language_info": {
   "codemirror_mode": {
    "name": "ipython",
    "version": 3
   },
   "file_extension": ".py",
   "mimetype": "text/x-python",
   "name": "python",
   "nbconvert_exporter": "python",
   "pygments_lexer": "ipython3",
   "version": "3.8.8"
  }
 },
 "nbformat": 4,
 "nbformat_minor": 5
}
